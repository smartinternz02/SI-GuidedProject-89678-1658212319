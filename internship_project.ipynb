{
 "cells": [
  {
   "cell_type": "code",
   "execution_count": 1,
   "id": "5c6b22a9",
   "metadata": {},
   "outputs": [],
   "source": [
    "from tensorflow.compat.v1 import ConfigProto\n",
    "from tensorflow.compat.v1 import InteractiveSession\n",
    "\n",
    "config = ConfigProto()\n",
    "config.gpu_options.per_process_gpu_memory_fraction = 0.5\n",
    "config.gpu_options.allow_growth = True\n",
    "session = InteractiveSession(config=config)"
   ]
  },
  {
   "cell_type": "code",
   "execution_count": 2,
   "id": "32e2383b",
   "metadata": {},
   "outputs": [
    {
     "name": "stdout",
     "output_type": "stream",
     "text": [
      "2.5.3\n"
     ]
    }
   ],
   "source": [
    "import tensorflow as tf\n",
    "print(tf.__version__)"
   ]
  },
  {
   "cell_type": "code",
   "execution_count": 3,
   "id": "2e0fbc5b",
   "metadata": {},
   "outputs": [],
   "source": [
    "# import the libraries as shown below\n",
    "\n",
    "from tensorflow.keras.layers import Input, Lambda, Dense, Flatten\n",
    "from tensorflow.keras.models import Model\n",
    "from tensorflow.keras.applications.vgg16 import VGG16\n",
    "from tensorflow.keras.applications.vgg19 import VGG19\n",
    "from tensorflow.keras.preprocessing import image\n",
    "from tensorflow.keras.preprocessing.image import ImageDataGenerator,load_img\n",
    "from tensorflow.keras.models import Sequential\n",
    "import numpy as np\n",
    "from glob import glob\n",
    "#import matplotlib.pyplot as plt"
   ]
  },
  {
   "cell_type": "code",
   "execution_count": 4,
   "id": "379caa10",
   "metadata": {},
   "outputs": [],
   "source": [
    "# re-size all the images to this\n",
    "IMAGE_SIZE = [224, 224]\n",
    "\n",
    "train_path = 'C:/Users/priya/Downloads/sp/dataset/train/'\n",
    "valid_path = 'C:/Users/priya/Downloads/sp/dataset/test/'"
   ]
  },
  {
   "cell_type": "code",
   "execution_count": 5,
   "id": "c2ce4f3d",
   "metadata": {},
   "outputs": [],
   "source": [
    "# Import the VGG16 library as shown below and add preprocessing layer to the front of VGG\n",
    "# Here we will be using imagenet weights\n",
    "\n",
    "vgg16 = VGG16(input_shape=IMAGE_SIZE + [3], weights='imagenet', include_top=False)"
   ]
  },
  {
   "cell_type": "code",
   "execution_count": 6,
   "id": "88f8b974",
   "metadata": {},
   "outputs": [],
   "source": [
    "# don't train existing weights\n",
    "for layer in vgg16.layers:\n",
    "    layer.trainable = False"
   ]
  },
  {
   "cell_type": "code",
   "execution_count": 7,
   "id": "2a8b02f5",
   "metadata": {},
   "outputs": [],
   "source": [
    "folders = glob('C:/Users/priya/Downloads/sp/dataset/test/*')"
   ]
  },
  {
   "cell_type": "code",
   "execution_count": 8,
   "id": "857b8116",
   "metadata": {},
   "outputs": [
    {
     "data": {
      "text/plain": [
       "['C:/Users/priya/Downloads/sp/dataset/test\\\\aloperia areata',\n",
       " 'C:/Users/priya/Downloads/sp/dataset/test\\\\beau_s lines',\n",
       " 'C:/Users/priya/Downloads/sp/dataset/test\\\\bluish nail',\n",
       " 'C:/Users/priya/Downloads/sp/dataset/test\\\\clubbing',\n",
       " 'C:/Users/priya/Downloads/sp/dataset/test\\\\Darier_s disease',\n",
       " 'C:/Users/priya/Downloads/sp/dataset/test\\\\eczema',\n",
       " 'C:/Users/priya/Downloads/sp/dataset/test\\\\half and half nailes (Lindsay_s nails)',\n",
       " 'C:/Users/priya/Downloads/sp/dataset/test\\\\koilonychia',\n",
       " 'C:/Users/priya/Downloads/sp/dataset/test\\\\leukonychia',\n",
       " 'C:/Users/priya/Downloads/sp/dataset/test\\\\Muehrck-e_s lines',\n",
       " 'C:/Users/priya/Downloads/sp/dataset/test\\\\onycholycis',\n",
       " 'C:/Users/priya/Downloads/sp/dataset/test\\\\pale nail',\n",
       " 'C:/Users/priya/Downloads/sp/dataset/test\\\\red lunula',\n",
       " 'C:/Users/priya/Downloads/sp/dataset/test\\\\splinter hemmorrage',\n",
       " 'C:/Users/priya/Downloads/sp/dataset/test\\\\terry_s nail',\n",
       " 'C:/Users/priya/Downloads/sp/dataset/test\\\\white nail',\n",
       " 'C:/Users/priya/Downloads/sp/dataset/test\\\\yellow nails']"
      ]
     },
     "execution_count": 8,
     "metadata": {},
     "output_type": "execute_result"
    }
   ],
   "source": [
    "folders"
   ]
  },
  {
   "cell_type": "code",
   "execution_count": 9,
   "id": "7883cd0b",
   "metadata": {},
   "outputs": [],
   "source": [
    "# our layers - you can add more if you want\n",
    "x = Flatten()(vgg16.output)"
   ]
  },
  {
   "cell_type": "code",
   "execution_count": 10,
   "id": "2fabb8c3",
   "metadata": {},
   "outputs": [
    {
     "data": {
      "text/plain": [
       "17"
      ]
     },
     "execution_count": 10,
     "metadata": {},
     "output_type": "execute_result"
    }
   ],
   "source": [
    "len(folders)"
   ]
  },
  {
   "cell_type": "code",
   "execution_count": 11,
   "id": "04dda579",
   "metadata": {},
   "outputs": [],
   "source": [
    "prediction = Dense(len(folders), activation='softmax')(x)\n",
    "\n",
    "# create a model object\n",
    "model = Model(inputs=vgg16.input, outputs=prediction)"
   ]
  },
  {
   "cell_type": "code",
   "execution_count": 12,
   "id": "6f19de7a",
   "metadata": {},
   "outputs": [
    {
     "name": "stdout",
     "output_type": "stream",
     "text": [
      "Model: \"model\"\n",
      "_________________________________________________________________\n",
      "Layer (type)                 Output Shape              Param #   \n",
      "=================================================================\n",
      "input_1 (InputLayer)         [(None, 224, 224, 3)]     0         \n",
      "_________________________________________________________________\n",
      "block1_conv1 (Conv2D)        (None, 224, 224, 64)      1792      \n",
      "_________________________________________________________________\n",
      "block1_conv2 (Conv2D)        (None, 224, 224, 64)      36928     \n",
      "_________________________________________________________________\n",
      "block1_pool (MaxPooling2D)   (None, 112, 112, 64)      0         \n",
      "_________________________________________________________________\n",
      "block2_conv1 (Conv2D)        (None, 112, 112, 128)     73856     \n",
      "_________________________________________________________________\n",
      "block2_conv2 (Conv2D)        (None, 112, 112, 128)     147584    \n",
      "_________________________________________________________________\n",
      "block2_pool (MaxPooling2D)   (None, 56, 56, 128)       0         \n",
      "_________________________________________________________________\n",
      "block3_conv1 (Conv2D)        (None, 56, 56, 256)       295168    \n",
      "_________________________________________________________________\n",
      "block3_conv2 (Conv2D)        (None, 56, 56, 256)       590080    \n",
      "_________________________________________________________________\n",
      "block3_conv3 (Conv2D)        (None, 56, 56, 256)       590080    \n",
      "_________________________________________________________________\n",
      "block3_pool (MaxPooling2D)   (None, 28, 28, 256)       0         \n",
      "_________________________________________________________________\n",
      "block4_conv1 (Conv2D)        (None, 28, 28, 512)       1180160   \n",
      "_________________________________________________________________\n",
      "block4_conv2 (Conv2D)        (None, 28, 28, 512)       2359808   \n",
      "_________________________________________________________________\n",
      "block4_conv3 (Conv2D)        (None, 28, 28, 512)       2359808   \n",
      "_________________________________________________________________\n",
      "block4_pool (MaxPooling2D)   (None, 14, 14, 512)       0         \n",
      "_________________________________________________________________\n",
      "block5_conv1 (Conv2D)        (None, 14, 14, 512)       2359808   \n",
      "_________________________________________________________________\n",
      "block5_conv2 (Conv2D)        (None, 14, 14, 512)       2359808   \n",
      "_________________________________________________________________\n",
      "block5_conv3 (Conv2D)        (None, 14, 14, 512)       2359808   \n",
      "_________________________________________________________________\n",
      "block5_pool (MaxPooling2D)   (None, 7, 7, 512)         0         \n",
      "_________________________________________________________________\n",
      "flatten (Flatten)            (None, 25088)             0         \n",
      "_________________________________________________________________\n",
      "dense (Dense)                (None, 17)                426513    \n",
      "=================================================================\n",
      "Total params: 15,141,201\n",
      "Trainable params: 426,513\n",
      "Non-trainable params: 14,714,688\n",
      "_________________________________________________________________\n"
     ]
    }
   ],
   "source": [
    "# view the structure of the model\n",
    "model.summary()"
   ]
  },
  {
   "cell_type": "code",
   "execution_count": 13,
   "id": "476de74c",
   "metadata": {},
   "outputs": [],
   "source": [
    "# tell the model what cost and optimization method to use\n",
    "model.compile(\n",
    "  loss='categorical_crossentropy',\n",
    "  optimizer='adam',\n",
    "  metrics=['accuracy']\n",
    ")"
   ]
  },
  {
   "cell_type": "code",
   "execution_count": 14,
   "id": "0b7f20fc",
   "metadata": {},
   "outputs": [],
   "source": [
    "# Use the Image Data Generator to import the images from the dataset\n",
    "from tensorflow.keras.preprocessing.image import ImageDataGenerator\n",
    "\n",
    "train_datagen =ImageDataGenerator(rescale = 1./255,\n",
    "                                   shear_range = 0.2,\n",
    "                                   zoom_range = 0.2,\n",
    "                                   horizontal_flip = True)\n",
    "\n",
    "test_datagen = ImageDataGenerator(rescale = 1./255)"
   ]
  },
  {
   "cell_type": "code",
   "execution_count": 15,
   "id": "53872a6d",
   "metadata": {},
   "outputs": [
    {
     "name": "stdout",
     "output_type": "stream",
     "text": [
      "Found 647 images belonging to 17 classes.\n"
     ]
    }
   ],
   "source": [
    "# Make sure you provide the same target size as initialied for the image size\n",
    "training_set = train_datagen.flow_from_directory('C:/Users/priya/Downloads/sp/dataset/train/',\n",
    "                                                 target_size = (224, 224),\n",
    "                                                 batch_size = 32,\n",
    "                                                 class_mode = 'categorical')"
   ]
  },
  {
   "cell_type": "code",
   "execution_count": 16,
   "id": "4f4dbb2f",
   "metadata": {},
   "outputs": [
    {
     "name": "stdout",
     "output_type": "stream",
     "text": [
      "Found 183 images belonging to 17 classes.\n"
     ]
    }
   ],
   "source": [
    "test_set = test_datagen.flow_from_directory('C:/Users/priya/Downloads/sp/dataset/test/',\n",
    "                                            target_size = (224, 224),\n",
    "                                            batch_size = 32,\n",
    "                                            class_mode = 'categorical')"
   ]
  },
  {
   "cell_type": "code",
   "execution_count": 17,
   "id": "800c430e",
   "metadata": {},
   "outputs": [
    {
     "name": "stderr",
     "output_type": "stream",
     "text": [
      "C:\\Users\\priya\\AppData\\Roaming\\Python\\Python39\\site-packages\\tensorflow\\python\\keras\\engine\\training.py:1935: UserWarning: `Model.fit_generator` is deprecated and will be removed in a future version. Please use `Model.fit`, which supports generators.\n",
      "  warnings.warn('`Model.fit_generator` is deprecated and '\n"
     ]
    },
    {
     "name": "stdout",
     "output_type": "stream",
     "text": [
      "Epoch 1/20\n",
      "21/21 [==============================] - 157s 7s/step - loss: 3.3151 - accuracy: 0.1206 - val_loss: 2.8515 - val_accuracy: 0.1858\n",
      "Epoch 2/20\n",
      "21/21 [==============================] - 154s 7s/step - loss: 2.4316 - accuracy: 0.2937 - val_loss: 2.6614 - val_accuracy: 0.2732\n",
      "Epoch 3/20\n",
      "21/21 [==============================] - 154s 7s/step - loss: 2.1747 - accuracy: 0.3694 - val_loss: 1.9810 - val_accuracy: 0.4372\n",
      "Epoch 4/20\n",
      "21/21 [==============================] - 158s 8s/step - loss: 1.8204 - accuracy: 0.4606 - val_loss: 1.7579 - val_accuracy: 0.5246\n",
      "Epoch 5/20\n",
      "21/21 [==============================] - 156s 7s/step - loss: 1.6469 - accuracy: 0.5224 - val_loss: 1.9427 - val_accuracy: 0.5246\n",
      "Epoch 6/20\n",
      "21/21 [==============================] - 155s 7s/step - loss: 1.5509 - accuracy: 0.5255 - val_loss: 1.5837 - val_accuracy: 0.5628\n",
      "Epoch 7/20\n",
      "21/21 [==============================] - 156s 7s/step - loss: 1.3683 - accuracy: 0.6136 - val_loss: 1.2285 - val_accuracy: 0.6503\n",
      "Epoch 8/20\n",
      "21/21 [==============================] - 156s 7s/step - loss: 1.1989 - accuracy: 0.6662 - val_loss: 1.2617 - val_accuracy: 0.6448\n",
      "Epoch 9/20\n",
      "21/21 [==============================] - 155s 7s/step - loss: 1.2636 - accuracy: 0.6321 - val_loss: 1.2275 - val_accuracy: 0.6995\n",
      "Epoch 10/20\n",
      "21/21 [==============================] - 155s 7s/step - loss: 1.1445 - accuracy: 0.6785 - val_loss: 1.0513 - val_accuracy: 0.7049\n",
      "Epoch 11/20\n",
      "21/21 [==============================] - 155s 7s/step - loss: 1.1683 - accuracy: 0.6368 - val_loss: 1.1828 - val_accuracy: 0.6448\n",
      "Epoch 12/20\n",
      "21/21 [==============================] - 155s 7s/step - loss: 0.9454 - accuracy: 0.7512 - val_loss: 0.8307 - val_accuracy: 0.7432\n",
      "Epoch 13/20\n",
      "21/21 [==============================] - 156s 7s/step - loss: 0.9173 - accuracy: 0.7419 - val_loss: 0.9754 - val_accuracy: 0.7541\n",
      "Epoch 14/20\n",
      "21/21 [==============================] - 156s 7s/step - loss: 0.8597 - accuracy: 0.7759 - val_loss: 0.8377 - val_accuracy: 0.8251\n",
      "Epoch 15/20\n",
      "21/21 [==============================] - 155s 7s/step - loss: 0.7657 - accuracy: 0.7960 - val_loss: 0.8951 - val_accuracy: 0.7213\n",
      "Epoch 16/20\n",
      "21/21 [==============================] - 155s 7s/step - loss: 0.8312 - accuracy: 0.7620 - val_loss: 0.6416 - val_accuracy: 0.8415\n",
      "Epoch 17/20\n",
      "21/21 [==============================] - 155s 7s/step - loss: 0.7176 - accuracy: 0.8207 - val_loss: 0.6046 - val_accuracy: 0.8579\n",
      "Epoch 18/20\n",
      "21/21 [==============================] - 2024s 101s/step - loss: 0.6597 - accuracy: 0.8501 - val_loss: 0.6986 - val_accuracy: 0.8415\n",
      "Epoch 19/20\n",
      "21/21 [==============================] - 155s 7s/step - loss: 0.6901 - accuracy: 0.8238 - val_loss: 0.6929 - val_accuracy: 0.8087\n",
      "Epoch 20/20\n",
      "21/21 [==============================] - 156s 7s/step - loss: 0.6241 - accuracy: 0.8346 - val_loss: 0.5928 - val_accuracy: 0.8470\n"
     ]
    }
   ],
   "source": [
    "# fit the model\n",
    "r = model.fit_generator(\n",
    "  training_set,\n",
    "  validation_data=test_set,\n",
    "  epochs=20,\n",
    "  steps_per_epoch=len(training_set),\n",
    "  validation_steps=len(test_set)\n",
    ")"
   ]
  },
  {
   "cell_type": "code",
   "execution_count": 18,
   "id": "2928aee1",
   "metadata": {},
   "outputs": [],
   "source": [
    "import matplotlib.pyplot as plt"
   ]
  },
  {
   "cell_type": "code",
   "execution_count": 19,
   "id": "83849825",
   "metadata": {},
   "outputs": [
    {
     "data": {
      "image/png": "[encoded data removed]",
      "text/plain": [
       "<Figure size 432x288 with 1 Axes>"
      ]
     },
     "metadata": {
      "needs_background": "light"
     },
     "output_type": "display_data"
    },
    {
     "data": {
      "image/png": "[encoded data removed]",
      "text/plain": [
       "<Figure size 432x288 with 1 Axes>"
      ]
     },
     "metadata": {
      "needs_background": "light"
     },
     "output_type": "display_data"
    },
    {
     "data": {
      "text/plain": [
       "<Figure size 432x288 with 0 Axes>"
      ]
     },
     "metadata": {},
     "output_type": "display_data"
    }
   ],
   "source": [
    "# plot the loss\n",
    "plt.plot(r.history['loss'], label='train loss')\n",
    "plt.plot(r.history['val_loss'], label='val loss')\n",
    "plt.legend()\n",
    "plt.show()\n",
    "plt.savefig('LossVal_loss')\n",
    "\n",
    "# plot the accuracy\n",
    "plt.plot(r.history['accuracy'], label='train acc')\n",
    "plt.plot(r.history['val_accuracy'], label='val acc')\n",
    "plt.legend()\n",
    "plt.show()\n",
    "plt.savefig('AccVal_acc')"
   ]
  },
  {
   "cell_type": "code",
   "execution_count": 20,
   "id": "962838b3",
   "metadata": {},
   "outputs": [],
   "source": [
    "# save it as a h5 file\n",
    "\n",
    "\n",
    "from tensorflow.keras.models import load_model\n",
    "\n",
    "model.save('model_vgg16.h5')"
   ]
  },
  {
   "cell_type": "code",
   "execution_count": 21,
   "id": "2b26e548",
   "metadata": {},
   "outputs": [],
   "source": [
    "y_pred = model.predict(test_set)"
   ]
  },
  {
   "cell_type": "code",
   "execution_count": 22,
   "id": "26743ae9",
   "metadata": {},
   "outputs": [
    {
     "data": {
      "text/plain": [
       "array([[6.6189730e-01, 1.6664448e-05, 2.5189862e-01, ..., 1.4588851e-03,\n",
       "        5.8642076e-04, 3.6591666e-03],\n",
       "       [4.8808361e-04, 4.8001832e-03, 3.6315534e-03, ..., 2.1883738e-03,\n",
       "        9.0916321e-04, 1.3407074e-01],\n",
       "       [9.9780041e-01, 5.9135527e-07, 1.2208801e-03, ..., 1.8037733e-06,\n",
       "        1.6277336e-05, 2.6466978e-05],\n",
       "       ...,\n",
       "       [4.7013302e-05, 6.4014841e-04, 1.9989410e-04, ..., 4.1835043e-03,\n",
       "        2.5566735e-05, 6.5883104e-04],\n",
       "       [1.5987736e-05, 1.9673309e-04, 3.3925149e-05, ..., 5.5319769e-03,\n",
       "        3.1822561e-05, 1.5270672e-03],\n",
       "       [9.2746429e-03, 7.8425571e-02, 2.4750492e-01, ..., 2.8741615e-02,\n",
       "        2.4073634e-02, 6.0559227e-03]], dtype=float32)"
      ]
     },
     "execution_count": 22,
     "metadata": {},
     "output_type": "execute_result"
    }
   ],
   "source": [
    "y_pred"
   ]
  },
  {
   "cell_type": "code",
   "execution_count": 23,
   "id": "2ffb8307",
   "metadata": {},
   "outputs": [],
   "source": [
    "import numpy as np\n",
    "y_pred = np.argmax(y_pred, axis=1)"
   ]
  },
  {
   "cell_type": "code",
   "execution_count": 24,
   "id": "a32a35e2",
   "metadata": {},
   "outputs": [
    {
     "data": {
      "text/plain": [
       "array([ 0,  6,  0,  2,  4,  1,  5,  3,  4, 14,  7, 15,  2, 12,  5, 10,  7,\n",
       "        7,  7, 14,  9,  0, 14,  5, 11, 12,  1,  3,  3,  9,  5,  0,  5, 14,\n",
       "        6, 16,  5,  6, 16, 14,  2,  6,  7,  5,  1, 12, 13, 10, 13,  9,  0,\n",
       "       12,  1,  7, 11,  0,  0,  5,  3, 13,  2,  3,  0, 12, 16, 13,  6,  9,\n",
       "       11,  6,  8,  5,  5, 14,  6,  6,  2, 13,  3, 14, 11, 11, 12,  1,  9,\n",
       "       12,  2,  7,  0,  8,  4, 12, 14, 12, 14,  5, 10,  0,  8,  5, 11,  3,\n",
       "        0, 14, 14, 16,  2,  3, 13,  7, 14, 14, 12,  3, 14, 14, 11,  8, 16,\n",
       "        5,  2, 10, 15, 14,  0,  8,  5,  2, 12, 14, 15, 11,  1,  4,  0, 16,\n",
       "        5,  4,  4,  0, 13,  2, 13,  2,  1,  0,  1,  6,  1, 12, 12, 15,  6,\n",
       "        3, 14, 10, 14,  2,  2,  3,  0, 15,  1,  6,  9,  2, 16, 14, 14, 13,\n",
       "       16, 14,  8,  7,  2,  5,  5,  2,  7,  8,  5,  5,  5], dtype=int64)"
      ]
     },
     "execution_count": 24,
     "metadata": {},
     "output_type": "execute_result"
    }
   ],
   "source": [
    "y_pred"
   ]
  },
  {
   "cell_type": "code",
   "execution_count": 25,
   "id": "613072d6",
   "metadata": {},
   "outputs": [],
   "source": [
    "from tensorflow.keras.models import load_model\n",
    "from tensorflow.keras.preprocessing import image\n",
    "from tensorflow.keras.applications.mobilenet import preprocess_input"
   ]
  },
  {
   "cell_type": "code",
   "execution_count": 26,
   "id": "f744baf2",
   "metadata": {},
   "outputs": [],
   "source": [
    "model=load_model('model_vgg16.h5')"
   ]
  },
  {
   "cell_type": "code",
   "execution_count": 27,
   "id": "5c251e6e",
   "metadata": {},
   "outputs": [],
   "source": [
    "img_data='C:/Users/priya/Downloads/image1.jpg'"
   ]
  },
  {
   "cell_type": "code",
   "execution_count": 28,
   "id": "65dbaf13",
   "metadata": {},
   "outputs": [
    {
     "data": {
      "text/plain": [
       "'C:/Users/priya/Downloads/image1.jpg'"
      ]
     },
     "execution_count": 28,
     "metadata": {},
     "output_type": "execute_result"
    }
   ],
   "source": [
    "img_data"
   ]
  },
  {
   "cell_type": "code",
   "execution_count": 29,
   "id": "1f66eb8b",
   "metadata": {},
   "outputs": [],
   "source": [
    "img=image.load_img('C:/Users/priya/Downloads/image1.jpg',target_size=(224,224))"
   ]
  },
  {
   "cell_type": "code",
   "execution_count": 30,
   "id": "6ee3be8e",
   "metadata": {},
   "outputs": [
    {
     "data": {
      "text/plain": [
       "array([[[209., 176., 167.],\n",
       "        [211., 178., 169.],\n",
       "        [217., 184., 175.],\n",
       "        ...,\n",
       "        [221., 187., 175.],\n",
       "        [211., 177., 168.],\n",
       "        [221., 187., 178.]],\n",
       "\n",
       "       [[208., 175., 166.],\n",
       "        [216., 183., 174.],\n",
       "        [215., 182., 173.],\n",
       "        ...,\n",
       "        [228., 194., 182.],\n",
       "        [205., 171., 161.],\n",
       "        [219., 185., 175.]],\n",
       "\n",
       "       [[216., 183., 174.],\n",
       "        [214., 181., 172.],\n",
       "        [219., 186., 177.],\n",
       "        ...,\n",
       "        [220., 186., 174.],\n",
       "        [220., 187., 172.],\n",
       "        [204., 171., 156.]],\n",
       "\n",
       "       ...,\n",
       "\n",
       "       [[107.,  88.,  73.],\n",
       "        [108.,  89.,  74.],\n",
       "        [108.,  89.,  74.],\n",
       "        ...,\n",
       "        [136., 103.,  84.],\n",
       "        [132., 101.,  80.],\n",
       "        [133., 102.,  81.]],\n",
       "\n",
       "       [[ 95.,  78.,  60.],\n",
       "        [ 91.,  74.,  56.],\n",
       "        [102.,  85.,  67.],\n",
       "        ...,\n",
       "        [134., 107.,  86.],\n",
       "        [133., 106.,  85.],\n",
       "        [128., 101.,  80.]],\n",
       "\n",
       "       [[104.,  87.,  69.],\n",
       "        [ 97.,  80.,  62.],\n",
       "        [ 95.,  78.,  60.],\n",
       "        ...,\n",
       "        [139., 112.,  91.],\n",
       "        [129., 102.,  81.],\n",
       "        [141., 114.,  93.]]], dtype=float32)"
      ]
     },
     "execution_count": 30,
     "metadata": {},
     "output_type": "execute_result"
    }
   ],
   "source": [
    "x=image.img_to_array(img)\n",
    "x"
   ]
  },
  {
   "cell_type": "code",
   "execution_count": 31,
   "id": "cd03c544",
   "metadata": {},
   "outputs": [
    {
     "data": {
      "text/plain": [
       "(224, 224, 3)"
      ]
     },
     "execution_count": 31,
     "metadata": {},
     "output_type": "execute_result"
    }
   ],
   "source": [
    "x.shape"
   ]
  },
  {
   "cell_type": "code",
   "execution_count": 32,
   "id": "bcd70b92",
   "metadata": {},
   "outputs": [],
   "source": [
    "x=x/255"
   ]
  },
  {
   "cell_type": "code",
   "execution_count": 34,
   "id": "d55eac87",
   "metadata": {},
   "outputs": [
    {
     "data": {
      "text/plain": [
       "(1, 224, 224, 3)"
      ]
     },
     "execution_count": 34,
     "metadata": {},
     "output_type": "execute_result"
    }
   ],
   "source": [
    "import numpy as np\n",
    "import tensorflow as tf\n",
    "x=np.expand_dims(x,axis=0)\n",
    "img_data=preprocess_input(x)\n",
    "img_data.shape"
   ]
  },
  {
   "cell_type": "code",
   "execution_count": 35,
   "id": "0abe7890",
   "metadata": {},
   "outputs": [
    {
     "data": {
      "text/plain": [
       "array([[0.00355513, 0.03540291, 0.00512659, 0.24942361, 0.01244339,\n",
       "        0.05310192, 0.03255669, 0.00370206, 0.01645713, 0.03865835,\n",
       "        0.00175602, 0.00449847, 0.01702134, 0.0152582 , 0.49230406,\n",
       "        0.01020741, 0.00852678]], dtype=float32)"
      ]
     },
     "execution_count": 35,
     "metadata": {},
     "output_type": "execute_result"
    }
   ],
   "source": [
    "model.predict(img_data)"
   ]
  },
  {
   "cell_type": "code",
   "execution_count": 36,
   "id": "4d56e2ec",
   "metadata": {},
   "outputs": [],
   "source": [
    "a=np.argmax(model.predict(img_data), axis=1)"
   ]
  },
  {
   "cell_type": "code",
   "execution_count": 37,
   "id": "93d329db",
   "metadata": {},
   "outputs": [
    {
     "data": {
      "text/plain": [
       "array([False])"
      ]
     },
     "execution_count": 37,
     "metadata": {},
     "output_type": "execute_result"
    }
   ],
   "source": [
    "a==1"
   ]
  },
  {
   "cell_type": "code",
   "execution_count": 38,
   "id": "550c3991",
   "metadata": {},
   "outputs": [],
   "source": [
    "import tensorflow as tf"
   ]
  },
  {
   "cell_type": "code",
   "execution_count": 39,
   "id": "8cfb3d69",
   "metadata": {},
   "outputs": [
    {
     "data": {
      "text/plain": [
       "'2.5.3'"
      ]
     },
     "execution_count": 39,
     "metadata": {},
     "output_type": "execute_result"
    }
   ],
   "source": [
    "tf.__version__"
   ]
  },
  {
   "cell_type": "code",
   "execution_count": null,
   "id": "c362e925",
   "metadata": {},
   "outputs": [],
   "source": []
  }
 ],
 "metadata": {
  "kernelspec": {
   "display_name": "Python 3 (ipykernel)",
   "language": "python",
   "name": "python3"
  },
  "language_info": {
   "codemirror_mode": {
    "name": "ipython",
    "version": 3
   },
   "file_extension": ".py",
   "mimetype": "text/x-python",
   "name": "python",
   "nbconvert_exporter": "python",
   "pygments_lexer": "ipython3",
   "version": "3.9.12"
  }
 },
 "nbformat": 4,
 "nbformat_minor": 5
}
